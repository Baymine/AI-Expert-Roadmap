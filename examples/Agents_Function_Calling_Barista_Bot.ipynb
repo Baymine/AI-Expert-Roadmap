{
  "cells": [
    {
      "cell_type": "markdown",
      "metadata": {
        "id": "Tce3stUlHN0L"
      },
      "source": [
        "##### Copyright 2025 Google LLC."
      ]
    },
    {
      "cell_type": "code",
      "execution_count": null,
      "metadata": {
        "cellView": "form",
        "id": "tuOe1ymfHZPu"
      },
      "outputs": [],
      "source": [
        "# @title Licensed under the Apache License, Version 2.0 (the \"License\");\n",
        "# you may not use this file except in compliance with the License.\n",
        "# You may obtain a copy of the License at\n",
        "#\n",
        "# https://www.apache.org/licenses/LICENSE-2.0\n",
        "#\n",
        "# Unless required by applicable law or agreed to in writing, software\n",
        "# distributed under the License is distributed on an \"AS IS\" BASIS,\n",
        "# WITHOUT WARRANTIES OR CONDITIONS OF ANY KIND, either express or implied.\n",
        "# See the License for the specific language governing permissions and\n",
        "# limitations under the License."
      ]
    },
    {
      "cell_type": "markdown",
      "metadata": {
        "id": "Ok-j-Bih_C5S"
      },
      "source": [
        "# Gemini API: Agents and Automatic Function Calling with Barista Bot\n",
        "\n",
        "<a target=\"_blank\" href=\"https://colab.research.google.com/github/google-gemini/cookbook/blob/main/examples/Agents_Function_Calling_Barista_Bot.ipynb\"><img src=\"https://colab.research.google.com/assets/colab-badge.svg\" height=30/></a>"
      ]
    },
    {
      "cell_type": "markdown",
      "metadata": {
        "id": "1YXoI96g_PLL"
      },
      "source": [
        "This notebook shows a practical example of using automatic function calling with the Gemini API's Python SDK to build an agent. You will define some functions that comprise a café's ordering system, connect them to the Gemini API and write an agent loop that interacts with the user to order café drinks.\n",
        "\n",
        "The guide was inspired by the ReAct-style [Barista bot](https://aistudio.google.com/app/prompts/barista-bot) prompt available through AI Studio."
      ]
    },
    {
      "cell_type": "code",
      "execution_count": null,
      "metadata": {
        "id": "3IzLYKxmTHd5"
      },
      "outputs": [],
      "source": [
        "%pip install -qU \"google-genai>=1.0.0\""
      ]
    },
    {
      "cell_type": "markdown",
      "metadata": {
        "id": "zFjRBXVrAdYB"
      },
      "source": [
        "To run this notebook, your API key must be stored it in a Colab Secret named `GOOGLE_API_KEY`. If you are running in a different environment, you can store your key in an environment variable. See [Authentication](../quickstarts/Authentication.ipynb) to learn more."
      ]
    },
    {
      "cell_type": "code",
      "execution_count": null,
      "metadata": {
        "id": "0gOuwcCUTNAO"
      },
      "outputs": [],
      "source": [
        "from google import genai\n",
        "from google.colab import userdata\n",
        "\n",
        "client = genai.Client(api_key=userdata.get(\"GOOGLE_API_KEY\"))"
      ]
    },
    {
      "cell_type": "markdown",
      "metadata": {
        "id": "F72jp1hzA8zU"
      },
      "source": [
        "## Define the API\n",
        "\n",
        "To emulate a café's ordering system, define functions for managing the customer's order: adding, editing, clearing, confirming and fulfilling.\n",
        "\n",
        "These functions track the customer's order using the global variables `order` (the in-progress order) and `placed_order` (the confirmed order sent to the kitchen). Each of the order-editing functions updates the `order`, and once placed, `order` is copied to `placed_order` and cleared.\n",
        "\n",
        "In the Python SDK you can pass functions directly to the model constructor, where the SDK will inspect the type signatures and docstrings to define the `tools`. For this reason it's important that you correctly type each of the parameters, give the functions sensible names and detailed docstrings."
      ]
    },
    {
      "cell_type": "code",
      "execution_count": null,
      "metadata": {
        "id": "wMltPyUpTu3h"
      },
      "outputs": [],
      "source": [
        "from typing import Optional\n",
        "from random import randint\n",
        "\n",
        "order = []  # The in-progress order.\n",
        "placed_order = []  # The confirmed, completed order.\n",
        "\n",
        "\n",
        "def add_to_order(drink: str, modifiers: Optional[list[str]] = None) -> None:\n",
        "    \"\"\"Adds the specified drink to the customer's order, including any modifiers.\"\"\"\n",
        "    if modifiers is None:  # Ensures safe handling of None\n",
        "        modifiers = []\n",
        "    order.append((drink, modifiers))\n",
        "\n",
        "\n",
        "def get_order() -> list[tuple[str, list[str]]]:\n",
        "    \"\"\"Returns the customer's order.\"\"\"\n",
        "    return order\n",
        "\n",
        "\n",
        "def remove_item(n: int) -> str:\n",
        "    \"\"\"Removes the nth (one-based) item from the order.\n",
        "\n",
        "    Returns:\n",
        "        The item that was removed.\n",
        "    \"\"\"\n",
        "    item, _ = order.pop(n - 1)\n",
        "    return item\n",
        "\n",
        "\n",
        "def clear_order() -> None:\n",
        "    \"\"\"Removes all items from the customer's order.\"\"\"\n",
        "    order.clear()\n",
        "\n",
        "\n",
        "def confirm_order() -> str:\n",
        "    \"\"\"Asks the customer if the order is correct.\n",
        "\n",
        "    Returns:\n",
        "        The user's free-text response.\n",
        "    \"\"\"\n",
        "    print(\"Your order:\")\n",
        "    if not order:\n",
        "        print(\"  (no items)\")\n",
        "\n",
        "    for drink, modifiers in order:\n",
        "        print(f\"  {drink}\")\n",
        "        if modifiers:\n",
        "            print(f'   - {\", \".join(modifiers)}')\n",
        "\n",
        "    return input(\"Is this correct? \")\n",
        "\n",
        "\n",
        "def place_order() -> int:\n",
        "    \"\"\"Submit the order to the kitchen.\n",
        "\n",
        "    Returns:\n",
        "        The estimated number of minutes until the order is ready.\n",
        "    \"\"\"\n",
        "    placed_order[:] = order.copy()\n",
        "    clear_order()\n",
        "\n",
        "    # TODO: Implement coffee fulfillment.\n",
        "    return randint(1, 10)"
      ]
    },
    {
      "cell_type": "markdown",
      "metadata": {
        "id": "e7l3_vBtC0oF"
      },
      "source": [
        "## Test the API\n",
        "\n",
        "With the functions written, test that they work as expected."
      ]
    },
    {
      "cell_type": "code",
      "execution_count": null,
      "metadata": {
        "id": "jg1LjYNUWnsC",
        "outputId": "ab1bb0cf-a3ee-479b-bea5-af47e3d372de"
      },
      "outputs": [
        {
          "name": "stdout",
          "output_type": "stream",
          "text": [
            "Your order:\n",
            "  Latte\n",
            "   - Extra shot\n",
            "  Tea\n",
            "   - Earl Grey, hot\n",
            "Is this correct? yes\n"
          ]
        },
        {
          "data": {
            "application/vnd.google.colaboratory.intrinsic+json": {
              "type": "string"
            },
            "text/plain": [
              "'yes'"
            ]
          },
          "execution_count": 26,
          "metadata": {},
          "output_type": "execute_result"
        }
      ],
      "source": [
        "# Test it out!\n",
        "\n",
        "clear_order()\n",
        "add_to_order(\"Latte\", [\"Extra shot\"])\n",
        "add_to_order(\"Tea\")\n",
        "remove_item(2)\n",
        "add_to_order(\"Tea\", [\"Earl Grey\", \"hot\"])\n",
        "confirm_order()"
      ]
    },
    {
      "cell_type": "markdown",
      "metadata": {
        "id": "gOhiADoCC811"
      },
      "source": [
        "## Define the prompt\n",
        "\n",
        "Here you define the full Barista-bot prompt. This prompt contains the café's menu items and modifiers and some instructions.\n",
        "\n",
        "The instructions include guidance on how functions should be called (e.g. \"Always `confirm_order` with the user before calling `place_order`\"). You can modify this to add your own interaction style to the bot, for example if you wanted to have the bot repeat every request back before adding to the order, you could provide that instruction here.\n",
        "\n",
        "The end of the prompt includes some jargon the bot might encounter, and instructions _du jour_ - in this case it notes that the café has run out of soy milk."
      ]
    },
    {
      "cell_type": "code",
      "execution_count": 11,
      "metadata": {
        "id": "IoBvZ1JYXgn5"
      },
      "outputs": [],
      "source": [
        "TUTOR_BOT_PROMPT = \"\"\"You are an intelligent and adaptable AI tutor, designed to assist users in learning new subjects and exploring ideas across a wide range of disciplines.\n",
        "Your role is to provide a supportive, engaging, and interactive learning experience. Follow these guidelines in your interactions:\n",
        "Assess the user's knowledge: Begin by gauging the user's current understanding of the topic to tailor your explanations appropriately.\n",
        "Provide clear explanations: Offer concise, easy-to-understand explanations of concepts, using analogies and examples when helpful.\n",
        "Encourage critical thinking: Ask thought-provoking questions to stimulate deeper reflection and analysis of the subject matter.\n",
        "Adapt to learning styles: Recognize and accommodate different learning styles, offering visual, auditory, or kinesthetic approaches as needed.\n",
        "Break down complex topics: Divide challenging subjects into smaller, more manageable parts to facilitate easier comprehension.\n",
        "Offer practice opportunities: Suggest exercises, problems, or activities to reinforce learning and check understanding.\n",
        "Provide constructive feedback: Give encouraging and specific feedback on the user's responses and progress.\n",
        "Encourage curiosity: Welcome and address follow-up questions, fostering a spirit of inquiry and exploration.\n",
        "Make interdisciplinary connections: Help users see how the topic relates to other fields of study or real-world applications.\n",
        "Summarize key points: Regularly recap important concepts to reinforce learning.\n",
        "Recommend resources: Suggest additional materials (books, articles, videos) for further study when appropriate.\n",
        "Maintain academic integrity: Encourage original thinking and discourage plagiarism or academic dishonesty.\n",
        "Be patient and supportive: Create a positive learning environment, offering encouragement and motivation throughout the process.\n",
        "Adapt to the user's pace: Allow the user to set the learning speed, providing more challenging material or review as needed.\n",
        "Promote discussion: Engage in meaningful dialogue about ideas, theories, and concepts related to the topic.\n",
        "Your goal is to foster a love for learning, critical thinking, and intellectual curiosity while helping users gain a deep and practical understanding of new subjects.\n",
        "\"\"\""
      ]
    },
    {
      "cell_type": "markdown",
      "metadata": {
        "id": "c_ybYQ-sU7rn"
      },
      "source": [
        "## Set up the model\n",
        "\n",
        "In this step you collate the functions into a \"system\" that is passed as `tools`, instantiate the model and start the chat session.\n",
        "\n",
        "A retriable `send_message` function is also defined to help with low-quota conversations."
      ]
    },
    {
      "cell_type": "code",
      "execution_count": null,
      "metadata": {
        "id": "8vmtzAlPaQH-"
      },
      "outputs": [],
      "source": [
        "from google.genai import types\n",
        "from google.api_core import retry\n",
        "\n",
        "ordering_system = [\n",
        "    add_to_order,\n",
        "    get_order,\n",
        "    remove_item,\n",
        "    clear_order,\n",
        "    confirm_order,\n",
        "    place_order,\n",
        "]\n",
        "model_name = \"gemini-2.0-flash\"  # @param [\"gemini-2.0-flash-lite\",\"gemini-2.0-flash\",\"gemini-2.5-flash-preview-04-17\",\"gemini-2.5-pro-exp-03-25\"] {\"allow-input\":true}\n",
        "\n",
        "chat = client.chats.create(\n",
        "    model=model_name,\n",
        "    config=types.GenerateContentConfig(\n",
        "        system_instruction=TUTOR_BOT_PROMPT\n",
        "    ),\n",
        ")\n",
        "\n"
      ]
    },
    {
      "cell_type": "markdown",
      "metadata": {
        "id": "624ai2Q5WMAF"
      },
      "source": [
        "## Chat with Barista Bot\n",
        "\n",
        "With the model defined and chat created, all that's left is to connect the user input to the model and display the output, in a loop. This loop continues until an order is placed.\n",
        "\n",
        "When run in Colab, any fixed-width text originates from your Python code (e.g. `print` calls in the ordering system), regular text comes the Gemini API, and the outlined boxes allow for user input that is rendered with a leading `>`.\n",
        "\n",
        "Try it out!"
      ]
    },
    {
      "cell_type": "code",
      "execution_count": null,
      "metadata": {
        "id": "38SAyrNNVhvE",
        "outputId": "b751de79-7bce-4329-e783-4471a7646782"
      },
      "outputs": [
        {
          "name": "stdout",
          "output_type": "stream",
          "text": [
            "Welcome to Barista bot!\n",
            "\n",
            "\n",
            "> i would like to have a cuppacino with almond milk\n"
          ]
        },
        {
          "data": {
            "text/markdown": "Ok, I've added a Cappuccino with Almond Milk to your order. Anything else?\n",
            "text/plain": [
              "<IPython.core.display.Markdown object>"
            ]
          },
          "metadata": {},
          "output_type": "display_data"
        },
        {
          "name": "stdout",
          "output_type": "stream",
          "text": [
            "> do you have stone milk?\n"
          ]
        },
        {
          "data": {
            "text/markdown": "I'm sorry, I do not have stone milk. We only have Whole, 2%, Oat, Almond, and 2% Lactose Free milk options.\n",
            "text/plain": [
              "<IPython.core.display.Markdown object>"
            ]
          },
          "metadata": {},
          "output_type": "display_data"
        },
        {
          "name": "stdout",
          "output_type": "stream",
          "text": [
            "> do you have long black\n"
          ]
        },
        {
          "data": {
            "text/markdown": "I am sorry, I do not have Long Black. Would you like to order an Americano instead?\n",
            "text/plain": [
              "<IPython.core.display.Markdown object>"
            ]
          },
          "metadata": {},
          "output_type": "display_data"
        },
        {
          "name": "stdout",
          "output_type": "stream",
          "text": [
            ">  no, that's all\n",
            "Your order:\n",
            "  Cappuccino\n",
            "   - Almond Milk\n",
            "Is this correct? yes\n"
          ]
        },
        {
          "data": {
            "text/markdown": "Okay, just to confirm, you would like to order: 1 Cappuccino with Almond Milk. Is that correct?\n",
            "text/plain": [
              "<IPython.core.display.Markdown object>"
            ]
          },
          "metadata": {},
          "output_type": "display_data"
        },
        {
          "name": "stdout",
          "output_type": "stream",
          "text": [
            "> yes\n"
          ]
        },
        {
          "data": {
            "text/markdown": "Okay, I've placed your order. It will be ready in approximately 8 minutes.\n",
            "text/plain": [
              "<IPython.core.display.Markdown object>"
            ]
          },
          "metadata": {},
          "output_type": "display_data"
        },
        {
          "name": "stdout",
          "output_type": "stream",
          "text": [
            "\n",
            "\n",
            "\n",
            "[barista bot session over]\n",
            "\n",
            "Your order:\n",
            "  [('Cappuccino', ['Almond Milk'])]\n",
            "\n",
            "- Thanks for using Barista Bot!\n"
          ]
        }
      ],
      "source": [
        "from IPython.display import display, Markdown\n",
        "\n",
        "print(\"Welcome to Barista bot!\\n\\n\")\n",
        "\n",
        "while not placed_order:\n",
        "    response = chat.send_message(input(\"> \"))\n",
        "    display(Markdown(response.text))\n",
        "\n",
        "\n",
        "print(\"\\n\\n\")\n",
        "print(\"[barista bot session over]\")\n",
        "print()\n",
        "print(\"Your order:\")\n",
        "print(f\"  {placed_order}\\n\")\n",
        "print(\"- Thanks for using Barista Bot!\")"
      ]
    },
    {
      "cell_type": "code",
      "source": [
        "TRANSLATOR_PROMPT = \"\"\"\n",
        "you are an advanced AI translator specializing in English to Chinese translation. Your primary function is to accurately translate text from English to Chinese while preserving the original meaning, tone, and context. Follow these guidelines:\n",
        "Maintain the original meaning: Ensure that the core message and intent of the English text are accurately conveyed in the Chinese translation.\n",
        "Preserve context and nuance: Consider the context of the text and translate idioms, cultural references, and figurative language appropriately.\n",
        "Adapt to different writing styles: Adjust your translation style to match the formality, tone, and purpose of the original text (e.g., casual conversation, formal document, technical writing).\n",
        "Use appropriate Chinese characters: Utilize Simplified Chinese characters unless specifically requested otherwise.\n",
        "Handle specialized terminology: Accurately translate technical terms, proper nouns, and domain-specific vocabulary.\n",
        "Maintain formatting: Preserve the original text's formatting, including paragraph breaks, bullet points, and text emphasis (bold, italic, etc.).\n",
        "Provide explanations: When encountering ambiguous terms or culturally specific concepts, provide brief explanations in parentheses if necessary.\n",
        "Ask for clarification: If a part of the text is unclear or could have multiple interpretations, ask for clarification before translating.\n",
        "Respect naming conventions: Use appropriate Chinese naming conventions for people, places, and organizations when applicable.\n",
        "Be consistent: Maintain consistency in terminology and style throughout the translation, especially for longer texts.\n",
        "Your goal is to produce high-quality, natural-sounding Chinese translations that effectively communicate the original English message to Chinese-speaking audiences.\n",
        "\n",
        "Note that for some gargons, you should translate them like this: 模型上下文协议(model context protocol)\n",
        "\"\"\""
      ],
      "metadata": {
        "id": "ZDwONi927hky"
      },
      "execution_count": null,
      "outputs": []
    },
    {
      "cell_type": "code",
      "source": [
        "from google.genai import types\n",
        "from google.api_core import retry\n",
        "\n",
        "model_name_translator = \"gemini-2.0-flash\"  # @param [\"gemini-2.0-flash-lite\",\"gemini-2.0-flash\",\"gemini-2.5-flash-preview-04-17\",\"gemini-2.5-pro-exp-03-25\"] {\"allow-input\":true}\n",
        "\n",
        "chat_translator = client.chats.create(\n",
        "    model=model_name_translator,\n",
        "    config=types.GenerateContentConfig(\n",
        "        system_instruction=TRANSLATOR_PROMPT,\n",
        "    ),\n",
        ")"
      ],
      "metadata": {
        "id": "xNODDOKA7oMM"
      },
      "execution_count": 13,
      "outputs": []
    },
    {
      "cell_type": "code",
      "source": [
        "from google.genai import types\n",
        "from google.api_core import retry\n",
        "from IPython.display import display, Markdown\n",
        "\n",
        "model_name = \"gemini-2.5-pro-exp-03-25\"  # @param [\"gemini-2.0-flash-lite\",\"gemini-2.0-flash\",\"gemini-2.5-flash-preview-04-17\",\"gemini-2.5-pro-exp-03-25\"] {\"allow-input\":true}\n",
        "\n",
        "chat = client.chats.create(\n",
        "    model=model_name,\n",
        "    config=types.GenerateContentConfig(\n",
        "        system_instruction=TUTOR_BOT_PROMPT,\n",
        "    ),\n",
        ")\n",
        "\n",
        "while True:\n",
        "    response = chat.send_message(input(\"> \"))\n",
        "    if response in [\"quit\", \"q\", \"break\"]:\n",
        "      break\n",
        "    translated_response = chat_translator.send_message(response.text)\n",
        "    display(Markdown(translated_response.text))\n",
        "\n"
      ],
      "metadata": {
        "id": "OUFChAP47aar",
        "outputId": "5138b51a-3887-42e9-d321-ef927416d76c",
        "colab": {
          "base_uri": "https://localhost:8080/",
          "height": 1000
        }
      },
      "execution_count": null,
      "outputs": [
        {
          "name": "stdout",
          "output_type": "stream",
          "text": [
            "> help me understand the visitor design pattern\n"
          ]
        },
        {
          "output_type": "display_data",
          "data": {
            "text/plain": [
              "<IPython.core.display.Markdown object>"
            ],
            "text/markdown": "好的，太棒了！ 访问者设计模式是一种引人入胜且强大的模式，尽管有时一开始有点难以掌握。 让我们一起分解它。\n\n首先，您以前遇到过设计模式吗？ 或者，您是否想到一个特定的场景，您听说过访问者模式（例如在编译器或面向对象编程中）？ 了解您的一些背景将帮助我调整解释。😊\n"
          },
          "metadata": {}
        },
        {
          "name": "stdout",
          "output_type": "stream",
          "text": [
            "> I know the design patter like singleton, I would like you to help me understand it with some great demo, which can help me understand why we need it and why it would useful. The demo could be write in java\n"
          ]
        },
        {
          "output_type": "display_data",
          "data": {
            "text/plain": [
              "<IPython.core.display.Markdown object>"
            ],
            "text/markdown": "太棒了！ 知道单例意味着您熟悉设计模式解决面向对象设计中特定问题的想法。 这是一个很好的起点。\n\n访问者模式解决了一个不同类型的问题：**如何在不改变这些类本身的情况下，向一组类添加新的操作？**\n\n想象一下，您有一个复杂的对象结构，比如不同类型的形状、汽车中的组件或文档中的节点。 现在，假设您想对这些对象执行各种操作，例如：\n\n*   计算所有形状的总面积。\n*   生成汽车零件的 XML 表示形式。\n*   从文档中提取所有文本。\n\n**\"幼稚\" 的方法（及其问题）**\n\n最直接的方法可能是直接在每个类定义中为每个新操作添加一个方法。\n\n*   将 `calculateArea()` 添加到 `Circle`、`Square`、`Rectangle`。\n*   将 `generateXML()` 添加到 `Engine`、`Wheel`、`Chassis`。\n*   将 `extractText()` 添加到 `Paragraph`、`Heading`、`ImageCaption`。\n\n**这样做有什么问题？**\n\n1.  **违反开闭原则：** 类（形状、汽车零件、文档元素）理想情况下应该 *对扩展开放*，但 *对修改关闭*。 每次您想到一个*新的*操作（例如 `calculatePerimeter()`、`getWeight()`、`spellCheck()`）时，您都必须返回并修改*所有*现有的类。 这可能会很乏味且容易出错，尤其是在这些类是您无法控制的库的一部分时。\n2.  **臃肿的类：** 类变得杂乱无章，包含许多不同的操作，模糊了它们的主要职责（可能只是表示对象的数据/状态）。\n3.  **分散的逻辑：** 单个操作（例如，XML 生成）的逻辑分散在许多不同的类中。\n\n**进入访问者模式**\n\n访问者模式通过将操作与对象结构分离，优雅地解决了这个问题。\n\n以下是核心思想：\n\n1.  **元素 (Elements)：** 结构中的对象（形状、汽车零件等）称为 \"元素\"。 每个元素都需要一个 `accept` 方法。\n2.  **访问者 (Visitor)：** 您定义一个单独的 `Visitor` 接口（或抽象类）。 此接口为每种*具体的*元素类型声明一个 `visit` 方法（`visitCircle`、`visitSquare`、`visitEngine`、`visitWheel` 等）。\n3.  **具体访问者 (Concrete Visitors)：** 对于您要执行的每个操作，您创建一个*具体的*访问者类，该类实现 `Visitor` 接口。 对每个元素类型执行操作的逻辑都进入*这个*类中对应的 `visit` 方法。\n4.  **\"双重分派\" 的魔力：**\n    *   当您想要对一个元素执行操作时，您可以调用它的 `accept` 方法，传递特定的访问者实例。\n    *   元素的 `accept` 方法 *立即* 调用访问者上正确的 `visit` 方法，并将自身 (`this`) 作为参数传递。\n\n这种 \"双重分派\" 确保为正确的元素类型执行正确的操作（来自访问者），而元素无需了解任何有关特定操作的信息。\n\n---\n\n**Java 演示：形状示例**\n\n让我们通过一个简单的形状示例来具体说明这一点。\n\n**场景：** 我们有 `Circle` 和 `Square` 形状。 我们想要计算它们的面积和周长，*而不* 直接将 `calculateArea()` 和 `calculatePerimeter()` 方法添加到 `Circle` 和 `Square` 中。\n\n**1. 元素接口 (`Shape`)**\n\n```java\n// 可访问接口\ninterface Shape {\n    void accept(ShapeVisitor visitor); // 核心 accept 方法\n}\n```\n\n**2. 具体元素 (`Circle`, `Square`)**\n\n```java\nclass Circle implements Shape {\n    private double radius;\n\n    public Circle(double radius) {\n        this.radius = radius;\n    }\n\n    public double getRadius() {\n        return radius;\n    }\n\n    @Override\n    public void accept(ShapeVisitor visitor) {\n        visitor.visit(this); // 调用访问者的 Circle 方法\n    }\n}\n\nclass Square implements Shape {\n    private double side;\n\n    public Square(double side) {\n        this.side = side;\n    }\n\n    public double getSide() {\n        return side;\n    }\n\n    @Override\n    public void accept(ShapeVisitor visitor) {\n        visitor.visit(this); // 调用访问者的 Square 方法\n    }\n}\n\n// 让我们添加另一个用于说明\nclass Rectangle implements Shape {\n    private double width;\n    private double height;\n\n    public Rectangle(double width, double height) {\n        this.width = width;\n        this.height = height;\n    }\n\n     public double getWidth() { return width; }\n     public double getHeight() { return height; }\n\n    @Override\n    public void accept(ShapeVisitor visitor) {\n        visitor.visit(this); // 调用访问者的 Rectangle 方法\n    }\n}\n```\n\n*注意：`Circle`、`Square`、`Rectangle` 只知道它们的数据和 `accept` 方法。 这里没有计算逻辑。*\n\n**3. 访问者接口 (`ShapeVisitor`)**\n\n```java\ninterface ShapeVisitor {\n    void visit(Circle circle);     // Circle 的方法\n    void visit(Square square);     // Square 的方法\n    void visit(Rectangle rectangle); // Rectangle 的方法\n    // 如果您添加更多形状类型，请添加更多 visit 方法\n}\n```\n\n*此接口定义了*可以*执行哪些操作，特定于每种形状类型。*\n\n**4. 具体访问者（操作）**\n\n```java\n// 用于计算面积的访问者\nclass AreaCalculatorVisitor implements ShapeVisitor {\n    private double totalArea = 0;\n\n    @Override\n    public void visit(Circle circle) {\n        double area = Math.PI * circle.getRadius() * circle.getRadius();\n        System.out.printf(\"Calculating area for Circle: %.2f%n\", area);\n        totalArea += area;\n    }\n\n    @Override\n    public void visit(Square square) {\n        double area = square.getSide() * square.getSide();\n        System.out.printf(\"Calculating area for Square: %.2f%n\", area);\n        totalArea += area;\n    }\n\n     @Override\n    public void visit(Rectangle rectangle) {\n        double area = rectangle.getWidth() * rectangle.getHeight();\n        System.out.printf(\"Calculating area for Rectangle: %.2f%n\", area);\n        totalArea += area;\n    }\n\n    public double getTotalArea() {\n        return totalArea;\n    }\n}\n\n// 用于计算周长的访问者\nclass PerimeterCalculatorVisitor implements ShapeVisitor {\n     private double totalPerimeter = 0;\n\n    @Override\n    public void visit(Circle circle) {\n        double perimeter = 2 * Math.PI * circle.getRadius();\n         System.out.printf(\"Calculating perimeter for Circle: %.2f%n\", perimeter);\n        totalPerimeter += perimeter;\n    }\n\n    @Override\n    public void visit(Square square) {\n       double perimeter = 4 * square.getSide();\n       System.out.printf(\"Calculating perimeter for Square: %.2f%n\", perimeter);\n       totalPerimeter += perimeter;\n    }\n\n     @Override\n    public void visit(Rectangle rectangle) {\n       double perimeter = 2 * (rectangle.getWidth() + rectangle.getHeight());\n       System.out.printf(\"Calculating perimeter for Rectangle: %.2f%n\", perimeter);\n       totalPerimeter += perimeter;\n    }\n\n    public double getTotalPerimeter() {\n        return totalPerimeter;\n    }\n}\n```\n\n*注意：所有面积逻辑都整齐地包含在 `AreaCalculatorVisitor` 中，而周长逻辑包含在 `PerimeterCalculatorVisitor` 中。*\n\n**5. 使用访问者**\n\n```java\nimport java.util.ArrayList;\nimport java.util.List;\n\npublic class VisitorDemo {\n    public static void main(String[] args) {\n        List<Shape> shapes = new ArrayList<>();\n        shapes.add(new Circle(5));\n        shapes.add(new Square(4));\n        shapes.add(new Rectangle(3, 6));\n        shapes.add(new Circle(2.5));\n\n        System.out.println(\"--- Calculating Areas ---\");\n        AreaCalculatorVisitor areaVisitor = new AreaCalculatorVisitor();\n        for (Shape shape : shapes) {\n            shape.accept(areaVisitor); // 魔力发生在这里！\n        }\n        System.out.printf(\"Total Area: %.2f%n%n\", areaVisitor.getTotalArea());\n\n\n        System.out.println(\"--- Calculating Perimeters ---\");\n        PerimeterCalculatorVisitor perimeterVisitor = new PerimeterCalculatorVisitor();\n         for (Shape shape : shapes) {\n            shape.accept(perimeterVisitor); // 对不同的操作使用不同的访问者\n        }\n        System.out.printf(\"Total Perimeter: %.2f%n\", perimeterVisitor.getTotalPerimeter());\n\n        // *** 如果我们想要一个新的操作怎么办？ 例如，绘制形状？ ***\n        // 我们只需创建一个新的访问者类 'DrawingVisitor'\n        // 我们不需要触摸 Shape、Circle、Square 或 Rectangle！\n        // （DrawingVisitor 的示例尚未完全实现，只是为了展示这个想法）\n        /*\n        class DrawingVisitor implements ShapeVisitor {\n             @Override public void visit(Circle c) { System.out.println(\"Drawing a circle with radius \" + c.getRadius()); }\n             @Override public void visit(Square s) { System.out.println(\"Drawing a square with side \" + s.getSide()); }\n             @Override public void visit(Rectangle r) { System.out.println(\"Drawing a rectangle \" + r.getWidth() + \"x\" + r.getHeight()); }\n        }\n\n        System.out.println(\"\\n--- Drawing Shapes ---\");\n        DrawingVisitor drawingVisitor = new DrawingVisitor();\n        for (Shape shape : shapes) {\n            shape.accept(drawingVisitor);\n        }\n        */\n    }\n}\n```\n\n**为什么这有用？**\n\n*   **添加新操作很容易：** 想要添加将形状导出到 JSON 的操作？ 创建一个 `JsonExportVisitor`。 `Shape`、`Circle`、`Square`、`Rectangle` 类保持不变。 这符合开闭原则。\n*   **保持元素类干净：** `Circle` 和 `Square` 仅专注于成为一个圆形和一个正方形。\n*   **对相关操作进行分组：** 所有计算面积的逻辑都在一个地方 (`AreaCalculatorVisitor`)。 所有计算周长的逻辑都在另一个地方 (`PerimeterCalculatorVisitor`)。\n*   **适用于集合：** 轻松将操作应用于不同的对象集合。 循环只是调用 `shape.accept(visitor)`，并且双重分派机制会根据 `shape` 的实际类型计算出要调用的正确的 `visit` 方法。\n\n**主要的权衡：**\n\n主要的缺点是添加*一种新的元素类型*（例如，添加 `Triangle` 类）需要更多的工作。 您必须：\n1.  定义实现 `Shape` 的 `Triangle` 类。\n2.  将 `visit(Triangle triangle)` 方法添加到 `ShapeVisitor` *接口*。\n3.  在*所有现有的具体访问者类*（`AreaCalculatorVisitor`、`PerimeterCalculatorVisitor` 等）中实现 `visit(Triangle triangle)` 方法。\n\n因此，当您的对象结构（元素类）相对稳定，但您希望经常添加新操作时，访问者模式最适合。\n\n---\n\n您觉得怎么样？ 这个演示是否有助于阐明访问者模式的 \"为什么\" 和 \"如何\"？ 您想进一步探索哪些部分？\n"
          },
          "metadata": {}
        },
        {
          "name": "stdout",
          "output_type": "stream",
          "text": [
            "> in my view:  the design pattern is accturally using a intermidiate class which can access the base class, by defining some methods in the intermidiate class,which can access the method in the base class, we no need to modify the base class. Is my understanding right?\n"
          ]
        },
        {
          "output_type": "display_data",
          "data": {
            "text/plain": [
              "<IPython.core.display.Markdown object>"
            ],
            "text/markdown": "这是一个非常好的开始思考的方式！您肯定掌握了一些关键方面。 让我们稍微改进一下，以获得更高的精度：\n\n您说的很对：\n\n1.  **我们使用中间类：** “访问者” 类（例如 `AreaCalculatorVisitor`、`PerimeterCalculatorVisitor`）确实是包含特定操作逻辑的单独类。\n2.  **我们避免修改原始类：** 核心好处是，当我们想要添加*新的操作*时，我们不需要更改现有的 \"元素\" 类（`Circle`、`Square`、`Rectangle`）。\n\n以下是关于连接*如何*工作的略微说明：\n\n*   不仅仅是中间类（访问者）*可以*访问基类/元素类。 关键在于元素类中的 **`accept` 方法** 和访问者中的 **`visit` 方法**。\n*   每个元素类（`Circle`、`Square`）中的 `accept(Visitor v)` 方法是至关重要的入口点。 它的*唯一*工作通常是调用访问者上正确的 `visit` 方法，传递自身 (`this`)。\n    *   `circle.accept(visitor)` 调用 `visitor.visit(this_circle)`\n    *   `square.accept(visitor)` 调用 `visitor.visit(this_square)`\n*   访问者接口具有*重载的* `visit` 方法，每种具体的元素类型都有一个方法 (`visit(Circle c)`、`visit(Square s)`)。\n*   这种机制（通常称为 \"双重分派\"）确保在访问者中为特定类型的元素执行正确的操作逻辑，*而无需* 元素使用 `if/else` 语句来确定要执行什么操作，并且 *无需* 访问者进行 `instanceof` 检查。\n\n因此，您的理解非常接近！改进之处在于强调特定的 `accept`/`visit` 交互，它作为允许访问者在不修改元素类以进行新操作的情况下与元素类一起工作的机制。\n\n可以这样想：\n\n*   **元素**（`Shape`、`Circle`、`Square`）定义了*结构*并保存了*数据*。 它们还提供了一个 \"钩子\" (`accept`) 用于附加操作。\n*   **访问者**（`ShapeVisitor`、`AreaCalculatorVisitor`）定义了*操作*。 他们知道 *如何处理* 每种元素类型的数据。\n\n元素 的 `accept` 方法和访问者的 `visit` 方法之间的区别有意义吗？ 这是该模式的核心技巧！\n"
          },
          "metadata": {}
        },
        {
          "name": "stdout",
          "output_type": "stream",
          "text": [
            "> this design pattern seems so how similar to callback?\n"
          ]
        },
        {
          "output_type": "display_data",
          "data": {
            "text/plain": [
              "<IPython.core.display.Markdown object>"
            ],
            "text/markdown": "这是一个非常有见地的观察！ 您发现相似之处是对的，因为这两种模式都涉及一种形式的**解耦**和**传递行为**。 让我们分解一下这种关系：\n\n**相似之处：**\n\n1.  **解耦：** 这两种模式都将 \"调用者\" 与 \"操作\" 的特定实现解耦。\n    *   **访问者：** 元素（`Circle`、`Square`）与特定操作（`AreaCalculatorVisitor`、`PerimeterCalculatorVisitor`）解耦。 元素只知道它需要 `accept` *某个* 访问者。\n    *   **回调：** 触发事件的代码（例如，一个按钮）与处理事件的特定代码（回调函数/方法）解耦。 按钮只知道它需要调用 *某个* 已注册的监听器的方法。\n2.  **传递行为：** 两者都涉及传递一个代表操作或行为的对象。\n    *   **访问者：** 您将一个 `Visitor` 对象（其中包含操作逻辑）传递给 `accept` 方法。\n    *   **回调：** 您将一个函数引用、lambda 或实现监听器接口的对象（其中包含处理逻辑）传递给事件源（例如，`button.addActionListener(myCallbackObject)`）。\n3.  **控制反转：** 两者都表现出控制反转。 主对象不是直接调用方法来执行操作，而是调用一个方法（`accept` 或触发方法），该方法 *反过来* 调用传递的行为（`visit` 方法或回调方法）。\n\n**主要区别（为什么访问者更具体）：**\n\n1.  **目的和结构：**\n    *   **访问者：** 专门设计用于向*现有的类层次结构*添加*新的操作*，而无需修改这些类。 它本质上处理基于它访问的元素的*类型*以不同方式运行。 核心机制依赖于*双重分派*（`accept` 调用 `visit`）。\n    *   **回调：** 一种用于延迟执行、事件处理或异步操作的更通用的机制。 它本质上并不处理以相同的结构化方式遍历复杂的对象结构或基于层次结构中多个类类型的不同行为。 通常，只有一个回调方法（例如 `run()` 或 `actionPerformed()`）。\n2.  **处理类型：**\n    *   **访问者：** `Visitor` 接口显式地为每种具体的元素类型定义不同的 `visit` 方法（`visit(Circle)`、`visit(Square)`）。 这对于模式至关重要 - 基于元素的类型选择正确的操作，*而无需* 在主循环中使用 `if/else` 或 `instanceof`。\n    *   **回调：** 回调通常具有单一的方法签名。 虽然回调的*实现*可以检查类型或接收上下文，但基本回调机制本身主要不是以与访问者相同的方式区分它可能操作的不同类型的对象。\n3.  **\"遍历\" 的对象：**\n    *   **访问者：** `accept` 方法在*元素本身*上调用，并且元素将 `this` 传递给访问者。 元素主动参与选择正确的 `visit` 方法。\n    *   **回调：** 回调通常由事件源或框架调用，可能会将事件数据或源对象*作为参数*传递给回调方法。 正在操作的对象通常没有特定于回调模式的 `accept` 类方法。\n\n**类比：**\n\n*   **回调：** 想象一下将您的电话号码（回调）交给某人。 当发生某事（事件）时，他们会回拨 *您*。 当被调用时，您执行 *您的* 特定操作。\n*   **访问者：** 想象一下，一个专业的技师（访问者）访问工厂中的不同部门（像 `Circle`、`Square` 这样的元素）。 每个部门都有一个标准程序 (`accept`) 来欢迎技师。 当技师到达时，部门会指导他们（`accept` 调用 `visit`），并且技师执行他们接受过培训的 *特定任务* *在那个特定的部门*（`visit(DepartmentA)`、`visit(DepartmentB)`）。 如果您需要完成*不同的*任务（例如，安全检查而不是维护），您需要发送*不同的*技师（一个不同的访问者）。\n\n**结论：**\n\n虽然访问者 *使用* 一种感觉有点像回调（传递行为并调用它）的机制，但访问者模式是为解决向类层次结构添加操作的问题量身定制的更专业的解决方案。 它提供了一种结构化的方式（通过 `accept`/`visit` 和双重分派）来处理基于在该层次结构中操作的对象的类型在行为上的变化。\n\n您对相似之处的直觉很好 - 这表明您正在认识到像解耦这样的基本原则！ 但是访问者模式在一般的回调想法之上添加了一个特定的结构和目的。\n"
          },
          "metadata": {}
        },
        {
          "name": "stdout",
          "output_type": "stream",
          "text": [
            "> why we need a visitor class instead of using callback which will only need a new method but a new class...\n"
          ]
        },
        {
          "output_type": "display_data",
          "data": {
            "text/plain": [
              "<IPython.core.display.Markdown object>"
            ],
            "text/markdown": "这是一个很棒的问题，直接触及了为什么模式具有特定结构的核心！ 您说的对，仅仅添加一个*方法*（例如回调）似乎比定义一个全新的*类*（例如访问者）更简单。\n\n以下是访问者模式通常使用类结构而不是仅仅依赖于更简单的回调方法的原因：\n\n1.  **优雅地处理多种元素类型（避免 `instanceof`）**：\n    *   **回调问题：** 如果您只是传递一个单独的回调方法（例如 Java 中的 lambda）来操作一个 `Shape`，那么该回调方法将接收一个通用的 `Shape` 对象。 在回调内部，您可能需要使用 `if (shape instanceof Circle)`... `else if (shape instanceof Square)`... 来确定实际类型并执行正确的逻辑。 这会重新引入类型检查问题，而访问者的目标是解决该问题，并且违反了 *操作* 本身的开闭原则（如果添加 `Triangle`，则必须修改所有回调方法）。\n    *   **访问者解决方案：** 访问者模式在访问者类中使用*方法重载*（`visit(Circle c)`、`visit(Square s)`、`visit(Rectangle r)`）。 每个具体元素 (`Circle`、`Square`) 中的 `accept` 方法调用与其自身类型相对应的*特定*重载 `visit` 方法。 这种 \"双重分派\" 机制会自动将执行路由到正确的逻辑，*而无需* 在您的操作代码中进行显式的 `instanceof` 检查。\n\n2.  **封装整个操作：**\n    *   **回调问题：** 单个回调方法通常表示单个逻辑片段。 一个完整的操作（例如 \"计算几何属性\"，可能包括面积、周长、质心等，或 \"ExportToXML\"）通常涉及*所有* 不同元素类型的逻辑。\n    *   **访问者解决方案：** `Visitor` 类（例如 `AreaCalculatorVisitor`、`XMLExportVisitor`）封装了与该特定操作相关的所有逻辑，涵盖它可以访问的*所有* 元素类型。 这使得单个操作的不同方面在一个地方具有凝聚力并井井有条。\n\n3.  **在遍历期间维护状态：**\n    *   **回调问题：** 虽然闭包可以捕获状态，但在迭代集合时，跨对简单回调的调用管理复杂状态可能会变得混乱。\n    *   **访问者解决方案：** `Visitor` 对象本身是在遍历对象结构时存储与操作相关的状态的自然位置。 例如，`AreaCalculatorVisitor` 具有一个 `totalArea` 字段，该字段在访问每个形状时累积面积。 此状态被干净地封装在访问者对象中。\n\n4.  **表示相关操作：**\n    *   **回调问题：** 如何对相关回调方法进行分组？ 它们可能只是四处漂浮的静态方法或 lambda。\n    *   **访问者解决方案：** `Visitor` 接口定义了一组操作的约定（每个元素类型一个 `visit` 方法）。 具体访问者类实现此接口，清楚地表明 `AreaCalculatorVisitor` 和 `PerimeterCalculatorVisitor` 是由 `ShapeVisitor` 定义的相同*种类*的操作概念的不同实现。\n\n**本质上：**\n\n虽然回调非常适合传递*单个* 行为片段，但访问者模式专为以下情况而设计：\n\n*   您有一个 **类家族（元素）**。\n*   您想在这些元素上执行 **多个不同的操作**。\n*   每个操作都涉及 **不同元素类型的不同逻辑**。\n*   您想 **添加新操作** 而不更改元素类。\n\n与 `accept`/`visit` 机制（双重分派）相结合的访问者 *类* 结构提供了一种强大且类型安全的方式来实现这种封装和可扩展性，特别是在处理类层次结构时，避免了更简单的回调方法可能需要的繁琐的 `instanceof` 检查。\n\n可以这样想：回调就像一个单独的工具，而访问者就像一个专门设计用于在一组相关的机器（元素）上工作的工具箱，其中每个工具（访问者类）跨所有机器类型执行一个完整的工作。\n"
          },
          "metadata": {}
        },
        {
          "name": "stdout",
          "output_type": "stream",
          "text": [
            "> why we need evaluate the type when we using callback? since that we can simply run the lambda passing from the function interface\n"
          ]
        },
        {
          "output_type": "display_data",
          "data": {
            "text/plain": [
              "<IPython.core.display.Markdown object>"
            ],
            "text/markdown": "好的，让我们澄清一下。 您绝对正确，您可以简单地运行通过函数式接口传递的 lambda。\n\n当 lambda 需要执行的操作从根本上取决于它接收的对象的特定*子类*时，才需要评估类型。\n\n让我们回到我们的 `Shape` 示例：`Circle`、`Square`、`Rectangle`。\n\n**场景 1：类型无关紧要**\n\n想象一下，您想要一个简单地打印每个形状的 `toString()` 表示形式的操作。\n\n```java\n// 定义一个简单的回调接口\n@FunctionalInterface\ninterface ShapeAction {\n    void perform(Shape s);\n}\n\n// 使用 lambda 实现该操作\nShapeAction printAction = shape -> System.out.println(shape.toString());\n\n// 使用它\nList<Shape> shapes = /* ... 您的形状列表 ... */ ;\nfor (Shape shape : shapes) {\n    printAction.perform(shape); // 只是运行 lambda！\n}\n```\n\n在这种情况下，您是对的！ `printAction` lambda 接收一个 `Shape`，调用 `toString()`（希望在每个子类中都正确实现），就是这样。 无需知道它是一个 `Circle` 还是 `Square`。\n\n**场景 2：类型*确实*很重要（访问者用例）**\n\n现在，考虑操作 \"计算面积\"。\n\n*   圆的面积：`Math.PI * radius * radius`\n*   正方形的面积：`side * side`\n*   矩形的面积：`width * height`\n\n如果您尝试为此使用单个 lambda：\n\n```java\n// 用于从形状计算某些东西（例如面积）的函数式接口\n@FunctionalInterface\ninterface ShapeCalculator<R> {\n    R calculate(Shape s);\n}\n\n// 尝试定义面积计算 lambda\nShapeCalculator<Double> areaCalculatorLambda = shape -> {\n    // 问题：我们如何在这里计算面积？\n    // 'shape' 变量的类型为 Shape。\n    // Shape 没有 getRadius()、getSide()、getWidth()、getHeight()。\n    // 我们需要知道实际类型才能调用正确的方法并使用正确的公式。\n\n    // 我们被迫这样做：\n    if (shape instanceof Circle) {\n        Circle c = (Circle) shape; // 需要强制转换\n        return Math.PI * c.getRadius() * c.getRadius();\n    } else if (shape instanceof Square) {\n        Square s = (Square) shape; // 需要强制转换\n        return s.getSide() * s.getSide();\n    } else if (shape instanceof Rectangle) {\n        Rectangle r = (Rectangle) shape; // 需要强制转换\n        return r.getWidth() * r.getHeight();\n    } else {\n        // 如果还有另一种形状类型怎么办？\n        throw new IllegalArgumentException(\"Unknown shape type\");\n    }\n};\n\n// 使用它\ndouble totalArea = 0;\nfor (Shape shape : shapes) {\n    totalArea += areaCalculatorLambda.calculate(shape);\n}\n```\n\n**为什么访问者避免了这种 `instanceof` 混乱：**\n\n访问者模式使用双重分派来精确地避免在 *操作的逻辑内部* 基于 `instanceof` 的丑陋的 `if/else if/else` 链。\n\n1.  您调用 `shape.accept(areaVisitor);`\n2.  如果 `shape` *实际上* 是一个 `Circle`，则运行 `Circle` 的 `accept` 方法。\n3.  `Circle.accept` 方法调用 `visitor.visit(this);`。 由于 `Circle` 类内部的 `this` *是* 一个 `Circle`，因此编译器知道调用访问者上的 `visit(Circle circle)` 方法。\n4.  如果 `shape` *实际上* 是一个 `Square`，则运行 `Square` 的 `accept` 方法。\n5.  `Square.accept` 方法调用 `visitor.visit(this);`。 由于 `Square` 类内部的 `this` *是* 一个 `Square`，因此编译器知道调用访问者上的 `visit(Square square)` 方法。\n\n类型检查和分支逻辑不是您在操作内部显式编写的； 它是通过元素中被覆盖的 `accept` 方法和访问者中被重载的 `visit` 方法的组合来隐式处理的。 正确的 `visit` 方法是基于调用 `accept` 的元素的运行时类型自动分派的。\n\n因此，如果*操作本身的逻辑取决于特定类型*，则需要使用简单的回调来评估类型。 访问者模式提供了一种结构化的方式来处理这种类型相关的逻辑，而无需在操作代码本身中诉诸显式的 `instanceof` 检查。\n"
          },
          "metadata": {}
        }
      ]
    },
    {
      "cell_type": "markdown",
      "metadata": {
        "id": "lr0xv8BIdXCQ"
      },
      "source": [
        "Some things to try:\n",
        "* Ask about the menu (e.g. \"what coffee drinks are available?\")\n",
        "* Use terms that are not specified in the prompt (e.g. \"a strong latte\" or \"an EB tea\")\n",
        "* Change your mind part way through (\"uhh cancel the latte sorry\")\n",
        "* Go off-menu (\"a babycino\")"
      ]
    },
    {
      "cell_type": "markdown",
      "metadata": {
        "id": "W438QHRGbLcB"
      },
      "source": [
        "## See also\n",
        "\n",
        "This sample app showed you how to integrate a traditional software system (the coffee ordering functions) and an AI agent powered by the Gemini API. This is a simple, practical way to use LLMs that allows for open-ended human language input and output that feels natural, but still keeps a human in the loop to ensure correct operation.\n",
        "\n",
        "To learn more about how Barista Bot works, check out:\n",
        "\n",
        "* The [Barista Bot](https://aistudio.google.com/app/prompts/barista-bot) prompt\n",
        "* [System instructions](../quickstarts/System_instructions.ipynb)\n",
        "* [Automatic function calling](../quickstarts/Function_calling.ipynb)\n"
      ]
    }
  ],
  "metadata": {
    "colab": {
      "name": "Agents_Function_Calling_Barista_Bot.ipynb",
      "toc_visible": true,
      "provenance": []
    },
    "kernelspec": {
      "display_name": "Python 3",
      "name": "python3"
    }
  },
  "nbformat": 4,
  "nbformat_minor": 0
}